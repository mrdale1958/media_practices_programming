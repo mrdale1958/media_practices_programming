{
 "cells": [
  {
   "cell_type": "markdown",
   "metadata": {},
   "source": [
    "**Homework Week 4**\n",
    "**Media Practices: Programming**\n",
    "This assignment is mostly about practicing manipulating images and scraping data out of webpages in python. \n"
   ]
  },
  {
   "cell_type": "markdown",
   "metadata": {
    "collapsed": true
   },
   "source": [
    "- Read in data/cc_cat.png\n",
    "- Divide the image into 9 rectangles (3x3)\n",
    "- for the three rectangles row 0 apply a different filter from ImageFilter module\n",
    "- for the three rectangles row 1 apply a different image operation from ImageOps module\n",
    "- for rectangle 0 on row 3, rotate the rectangle 180 degrees\n",
    "- for rectangle 1 on row 3, flip the rectangle vertically\n",
    "- for rectangle 2 on row 3, flip the rectangle horizontally\n"
   ]
  },
  {
   "cell_type": "code",
   "execution_count": null,
   "metadata": {
    "collapsed": true
   },
   "outputs": [],
   "source": []
  },
  {
   "cell_type": "markdown",
   "metadata": {
    "collapsed": true
   },
   "source": [
    "**Dictionaries**\n",
    "Given the data below:\n",
    "- Make a dictionary of all prices over 200\n",
    "- Print the keys from that dictionary\n",
    "- Make a dictionary of tech stocks\n",
    "- Print the average price of tech shaares"
   ]
  },
  {
   "cell_type": "code",
   "execution_count": null,
   "metadata": {
    "collapsed": true
   },
   "outputs": [],
   "source": [
    "prices = {\n",
    "   'ACME': 45.23,\n",
    "   'AAPL': 612.78,\n",
    "   'IBM': 205.55,\n",
    "   'HPQ': 37.20,\n",
    "   'FB': 10.75\n",
    "}\n",
    "tech_names = { 'AAPL', 'IBM', 'HPQ', 'MSFT' }\n"
   ]
  },
  {
   "cell_type": "markdown",
   "metadata": {},
   "source": [
    "**Web scraping.**\n",
    "- Add comments about what's going on here. \n",
    "- Then create a dictionary called sales that hasa buyers as keys and prices as values"
   ]
  },
  {
   "cell_type": "code",
   "execution_count": null,
   "metadata": {
    "collapsed": false
   },
   "outputs": [],
   "source": [
    "from lxml import html\n",
    "import requests\n",
    "page = requests.get('http://econpy.pythonanywhere.com/ex/001.html')\n",
    "tree = html.fromstring(page.text)\n",
    "#This will create a list of buyers:\n",
    "buyers = tree.xpath('//div[@title=\"buyer-name\"]/text()')\n",
    "#This will create a list of prices\n",
    "prices = tree.xpath('//span[@class=\"item-price\"]/text()')\n",
    "print 'Buyers: ', buyers\n",
    "print 'Prices: ', prices"
   ]
  },
  {
   "cell_type": "markdown",
   "metadata": {},
   "source": [
    "This is mostly to see if BeautifulSoup is installed properly.  use www.newschool.edu as the input url\n",
    "\n",
    "If your system doesn't recognize beautifulSoup then you will need to type\n",
    "\n",
    "> conda install beautifulsoup4 \n",
    "\n",
    "in a terminal"
   ]
  },
  {
   "cell_type": "code",
   "execution_count": 1,
   "metadata": {
    "collapsed": false
   },
   "outputs": [
    {
     "name": "stdout",
     "output_type": "stream",
     "text": [
      "Enter a website to extract the URL's from: www.newschool.edu\n",
      "#top\n",
      "None\n",
      "None\n",
      "#\n",
      "/admission/apply-online/\n",
      "/about/contact/\n",
      "https://my.newschool.edu/\n",
      "/about/campus-map/\n",
      "http://courses.newschool.edu\n",
      "/directory/\n",
      "/about/resources-services/\n",
      "/prospective-student-info/\n",
      "/student-info/\n",
      "/parent-info/\n",
      "/alumni-info/\n",
      "/giving/\n",
      "/faculty-info/\n",
      "/employee-info/\n",
      "/parsons/\n",
      "/lang/\n",
      "/performing-arts/\n",
      "/mannes/\n",
      "/jazz/\n",
      "/drama/\n",
      "/nssr/\n",
      "/parsons-paris/\n",
      "/public-engagement/milano-school/\n",
      "/public-engagement/school-of-media-studies/\n",
      "/public-engagement/bachelors-program/\n",
      "/public-engagement/mfa-creative-writing/\n",
      "/public-engagement/school-of-language-learning-teaching/\n",
      "http://social.newschool.edu\n",
      "http://form.jotformpro.com/form/23346135072952\n",
      "#\n",
      "#\n",
      "/\n",
      "/academics/?trigger=design\n",
      "/academics/?trigger=liberal-arts\n",
      "/academics/?trigger=business\n",
      "/academics/?trigger=media\n",
      "/academics/?trigger=performing-arts\n",
      "/academics/?trigger=social-sciences\n",
      "#\n",
      "/about/\n",
      "/academics/\n",
      "/admission/\n",
      "http://events.newschool.edu\n",
      "/giving/\n",
      "http://blogs.newschool.edu/news/\n",
      "http://social.newschool.edu\n",
      "/about/?trigger=video\n",
      "http://blogs.newschool.edu/news/2015/04/parsons-named-best-art-and-design-school-in-the-country/#.VV4JlWRVhBd\n",
      "http://www.newschool.edu/mannes/on-the-move/\n",
      "http://www.newschool.edu/admission/graduate-events/\n",
      "http://blogs.newschool.edu/news/2015/08/lang-lands-on-princeton-reviews-best-college-list/#.VcthcJ1VhBc\n",
      "http://events.newschool.edu/event/chris_hedges_and_cornel_west_in_conversation_-_wages_of_rebellion#.VhZ1R7RVhBd\n",
      "http://www.newschool.edu/admission/graduate-events/\n",
      "http://www.publicseminar.org/2015/10/the-deconstruction-of-the-illegal-immigrant/#.VhU85ntMB8c\n",
      "http://blogs.newschool.edu/news/2015/09/media-studies-celebrates-40-years/#.VfiMY2RVhBc\n",
      "http://www.newschool.edu/admission/#virtualtour\n"
     ]
    },
    {
     "name": "stderr",
     "output_type": "stream",
     "text": [
      "//anaconda/lib/python2.7/site-packages/bs4/__init__.py:166: UserWarning: No parser was explicitly specified, so I'm using the best available HTML parser for this system (\"lxml\"). This usually isn't a problem, but if you run this code on another system, or in a different virtual environment, it may use a different parser and behave differently.\n",
      "\n",
      "To get rid of this warning, change this:\n",
      "\n",
      " BeautifulSoup([your markup])\n",
      "\n",
      "to this:\n",
      "\n",
      " BeautifulSoup([your markup], \"lxml\")\n",
      "\n",
      "  markup_type=markup_type))\n"
     ]
    }
   ],
   "source": [
    "from bs4 import BeautifulSoup\n",
    "\n",
    "import requests\n",
    "\n",
    "url = raw_input(\"Enter a website to extract the URL's from: \")\n",
    "\n",
    "r  = requests.get(\"http://\" +url)\n",
    "\n",
    "data = r.text\n",
    "\n",
    "soup = BeautifulSoup(data)\n",
    "\n",
    "for link in soup.find_all('a'):\n",
    "    print(link.get('href'))"
   ]
  },
  {
   "cell_type": "code",
   "execution_count": null,
   "metadata": {
    "collapsed": true
   },
   "outputs": [],
   "source": []
  }
 ],
 "metadata": {
  "kernelspec": {
   "display_name": "Python 2",
   "language": "python",
   "name": "python2"
  },
  "language_info": {
   "codemirror_mode": {
    "name": "ipython",
    "version": 2
   },
   "file_extension": ".py",
   "mimetype": "text/x-python",
   "name": "python",
   "nbconvert_exporter": "python",
   "pygments_lexer": "ipython2",
   "version": "2.7.10"
  }
 },
 "nbformat": 4,
 "nbformat_minor": 0
}
