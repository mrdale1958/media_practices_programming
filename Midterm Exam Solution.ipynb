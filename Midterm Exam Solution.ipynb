{
 "cells": [
  {
   "cell_type": "markdown",
   "metadata": {},
   "source": [
    "# Media Practices: Programming -- Midterm Exam"
   ]
  },
  {
   "cell_type": "markdown",
   "metadata": {},
   "source": [
    "## Writing Algorithms\n",
    "\n",
    "For the following write in English/pseudocode an algorithm that will accomplish the task. Indicate data (variables) by giving them UPPERCASE names."
   ]
  },
  {
   "cell_type": "markdown",
   "metadata": {},
   "source": [
    "**Make an array containing the color on each face of a cube**\n"
   ]
  },
  {
   "cell_type": "code",
   "execution_count": null,
   "metadata": {
    "collapsed": true
   },
   "outputs": [],
   "source": [
    "# color cube\n",
    "pick up the cube\n",
    "(1)note the color of the face in front of you\n",
    "turn the cube clockwise and parallel to the ground to see the next face\n",
    "(2)note the color of the face in front of you\n",
    "turn the cube clockwise and parallel to the ground to see the next face\n",
    "(3)note the color of the face in front of you\n",
    "turn the cube clockwise and parallel to the ground to see the next face\n",
    "(4)note the color of the face in front of you\n",
    "turn the cube clockwise and perpendicular to the ground to see the bottom face\n",
    "(5)note the color of the face in front of you\n",
    "turn the cube clockwise and parallel to the ground to see the next face\n",
    "turn the cube clockwise and parallel to the ground to see the next face\n",
    "(6)note the color of the face in front of you\n",
    "\n",
    "\n",
    "\n",
    "\n",
    "\n",
    "\n",
    "\n",
    "\n",
    "\n",
    "\n"
   ]
  },
  {
   "cell_type": "markdown",
   "metadata": {},
   "source": [
    "**Convert numbers in the range 0,255 into letters between 'a' and 'z' (several numbers will convert to a single letter)**"
   ]
  },
  {
   "cell_type": "code",
   "execution_count": null,
   "metadata": {
    "collapsed": true
   },
   "outputs": [],
   "source": [
    "# numbers to letters\n",
    "make a dictionary indexed by 'a'..'z' with values that are arrays of 255 / 26 sequential numbers\n",
    "make a dictionary indexed by 'a'..'z' with values that are arrays of multiples of 26 plue the ASCII value of the index - the ASCII value of 'a'\n",
    "\n",
    "\n"
   ]
  },
  {
   "cell_type": "markdown",
   "metadata": {},
   "source": [
    "**Count the number of sentences in a text named STORY, where 'sentence' is defined as a string that starts with a capital letter and ends with a '.'**"
   ]
  },
  {
   "cell_type": "code",
   "execution_count": null,
   "metadata": {
    "collapsed": true
   },
   "outputs": [],
   "source": [
    "# sentences\n",
    "set sentence_count = 0\n",
    "while not at end of STORY \n",
    "    scan STORY for 'A'..'Z'\n",
    "    when one is found note it's position as CAP_FOUND\n",
    "    scan from  CAP_FOUND for '.' or end of STORY\n",
    "    if end of story found quit\n",
    "    if '.' found increment sentence_count\n",
    "    \n",
    "    "
   ]
  },
  {
   "cell_type": "markdown",
   "metadata": {},
   "source": [
    "**Count the number of sentences in a text named STORY_TWO where 'sentence' is defined as a string that starts with a capital letter and ends with one of '.', '!', or '?'**"
   ]
  },
  {
   "cell_type": "code",
   "execution_count": null,
   "metadata": {
    "collapsed": true
   },
   "outputs": [],
   "source": [
    "# sentences 2\n",
    "set sentence_count = 0\n",
    "while not at end of STORY \n",
    "    scan STORY for 'A'..'Z'\n",
    "    when one is found note it's position as CAP_FOUND\n",
    "    scan from  CAP_FOUND for '.' or '?' or '!' or end of STORY\n",
    "    if end of story found quit\n",
    "    if '.'  or '?' or '!'found increment sentence_count\n",
    "\n"
   ]
  },
  {
   "cell_type": "markdown",
   "metadata": {},
   "source": [
    "**Count the number of sentences in a text named INTERVIEW where 'sentence' is defined as a string that starts with a capital letter and ends with one of '.', '!', or '?'and ignore quoted passages and decimal numbers.**"
   ]
  },
  {
   "cell_type": "code",
   "execution_count": null,
   "metadata": {
    "collapsed": true
   },
   "outputs": [],
   "source": [
    "# questions\n",
    "set sentence_count = 0\n",
    "while not at end of STORY \n",
    "    scan STORY for 'A'..'Z'\n",
    "    when one is found note it's position as CAP_FOUND\n",
    "    scan from  CAP_FOUND for '.' or '?' or '!' or '\"' or end of STORY\n",
    "    if '\"' found from here for '\"' or end of STORY\n",
    "\n",
    "    if end of story found quit\n",
    "    if '.' found if next char a number ignore and continue scanning else increment sentence_count\n",
    "    if '?' or '!'found increment sentence_count\n",
    "\n"
   ]
  },
  {
   "cell_type": "markdown",
   "metadata": {},
   "source": [
    "**Do homework for this class**"
   ]
  },
  {
   "cell_type": "code",
   "execution_count": null,
   "metadata": {
    "collapsed": true
   },
   "outputs": [],
   "source": [
    "# homework\n",
    "sync local instructor repository by issuing a 'git pull' from inside it\n",
    "copy current week's assigned files into personal homework repository\n",
    "work on current week's assignment in jupyter, saving often\n",
    "add the new files to personal homework repository with 'git add <filelist>'\n",
    "commit the changes with a message with 'git commit -a -m \"a useful description of the changes\"'\n",
    "push the changes back to your repository on github with 'git push'"
   ]
  },
  {
   "cell_type": "markdown",
   "metadata": {},
   "source": [
    "## Discovering algorithms\n",
    "\n",
    "**Describe the algorithms implemented in each cell then rewrite the code choosing better names for the variables**\n"
   ]
  },
  {
   "cell_type": "markdown",
   "metadata": {},
   "source": [
    "```\n",
    "# function 1\n",
    "def do_something(with_object_of_type_text):\n",
    "    return_list = []\n",
    "    for c in range(len(with_object_of_type_text)):\n",
    "        if (text[c] == '?'):\n",
    "            maybe = -1\n",
    "            for b in range(c-1,0,-1):\n",
    "                if with_object_of_type_text[b] in string.ascii_uppercase:\n",
    "                    maybe = b\n",
    "                    continue\n",
    "                if (maybe > -1) and (b < maybe) and (with_object_of_type_text[b] in ['.', '!', '?']):\n",
    "                    return_list.append(with_object_of_type_text[maybe:c])\n",
    "                    break\n",
    "                elif b == 0:\n",
    "                    return_list.append(with_object_of_type_text[0:c])\n",
    "                    break\n",
    "    return return_list\n",
    "```                    \n",
    "    "
   ]
  },
  {
   "cell_type": "code",
   "execution_count": null,
   "metadata": {
    "collapsed": true
   },
   "outputs": [],
   "source": [
    "# algorithm 1\n",
    "#\n",
    "make a list of the questions in with_object_of_type_text \n",
    "scan the text for ?\n",
    "    when found scan backwards until find an uppercase character preceded by a '.', '!', or '?'\n",
    "        copy from that character to the ? into the return array\n"
   ]
  },
  {
   "cell_type": "code",
   "execution_count": null,
   "metadata": {
    "collapsed": true
   },
   "outputs": [],
   "source": [
    "# improved version 1\n",
    "def get_questions(with_object_of_type_text):\n",
    "    # intialize return list\n",
    "    return_list = []\n",
    "    # scan the text \n",
    "    for character_index in range(len(with_object_of_type_text)):\n",
    "        # look for a '?'\n",
    "        if (with_object_of_type_text[character_index] == '?'):\n",
    "            # assume won't find a beginning\n",
    "            maybe = -1\n",
    "            # scan backwards from here\n",
    "            for backwards_index in range(character_index-1,0,-1):\n",
    "                # find an uppercase character note the position as maybe_start_of_question\n",
    "                if with_object_of_type_text[backwards_index] in string.ascii_uppercase:\n",
    "                    maybe_start_of_question = backwards_index\n",
    "                    continue\n",
    "                # If we've seen an uppercase letter, \n",
    "                # find the preceding end of sentence punctuation or the beginning of the file\n",
    "                # once either is found append the question to return_list\n",
    "                if (maybe_start_of_question > -1) and \n",
    "                    (backwards_index < maybe_start_of_question) and \n",
    "                    (with_object_of_type_text[backwards_index] in ['.', '!', '?']):\n",
    "                    return_list.append(with_object_of_type_text[maybe_start_of_question:character_index])\n",
    "                    break\n",
    "                elif backwards_index == 0:\n",
    "                    return_list.append(with_object_of_type_text[0:character_index])\n",
    "                    break\n",
    "    return return_list\n"
   ]
  },
  {
   "cell_type": "markdown",
   "metadata": {},
   "source": [
    "```\n",
    "# function 2\n",
    "def do_something(with_object_of_type_image):\n",
    "    w,h = with_object_of_type_image.size\n",
    "    p = with_object_of_type_image.load()\n",
    "    for i in range(h):\n",
    "        for j in range(w):\n",
    "            if p[i,j] == (0,0,0):\n",
    "                p[i,j] = (255,255,255)\n",
    "            elif p[i,j] == (255,255,255):\n",
    "                p[i,j] = (0,0,0)\n",
    "    with_object_of_type_image.show()\n",
    "```            \n",
    "    "
   ]
  },
  {
   "cell_type": "code",
   "execution_count": null,
   "metadata": {
    "collapsed": true
   },
   "outputs": [],
   "source": [
    "# algorithm 2\n",
    "#\n",
    "scan the pixels in an image by row replace white pixels with black and black pixels with white"
   ]
  },
  {
   "cell_type": "code",
   "execution_count": null,
   "metadata": {
    "collapsed": true
   },
   "outputs": [],
   "source": [
    "# improved version 2\n",
    "def swap_black_and_white(with_object_of_type_image):\n",
    "    #get the image width and height\n",
    "    image_width,image_height = with_object_of_type_image.size\n",
    "    # load the pixels from the image into an array\n",
    "    pixels = with_object_of_type_image.load()\n",
    "    # scan the rows\n",
    "    black = (0,0,0)\n",
    "    white = (255,255,255)\n",
    "    for row in range(image_height):\n",
    "        for column in range(image_width):\n",
    "            if pixels[row,column] == black:\n",
    "                pixels[row,column] = white\n",
    "            elif pixels[row,column] == white:\n",
    "                pixels[row,column] = black\n",
    "    with_object_of_type_image.show()\n"
   ]
  },
  {
   "cell_type": "markdown",
   "metadata": {},
   "source": [
    "```\n",
    "# function 3\n",
    "from PIL import Image\n",
    "def do_something():\n",
    "    bw = 8\n",
    "    bh = 8\n",
    "    sqw = 10\n",
    "    sqh = 10\n",
    "    return_image = Image.new('RGB',(bw*sqw, bh*sqh),(255,255,255))\n",
    "    p = return_image.load()\n",
    "    c1 = (0,0,0)\n",
    "    c2 = (255,255,255)\n",
    "    for i in range(bw):\n",
    "        for j in range(bh):\n",
    "            if (i % 2) == 0:\n",
    "                if (j % 2) == 0:\n",
    "                    c = c1\n",
    "                else:\n",
    "                    c = c2\n",
    "            else:\n",
    "                if (j % 2) == 0:\n",
    "                    c = c2\n",
    "                else:\n",
    "                    c = c1\n",
    "                \n",
    "            for k in range(sqw):\n",
    "                for l in range(sqh):\n",
    "                    p[i*sqw+k, j*sqh+l] = c\n",
    "    return return_image\n",
    "```"
   ]
  },
  {
   "cell_type": "code",
   "execution_count": null,
   "metadata": {
    "collapsed": true
   },
   "outputs": [],
   "source": [
    "# algorithm 3\n",
    "#\n",
    "make an 8x8 black and white checkerboard with 10 pixel squares\n",
    "for each square \n",
    "if the row number is even and the column number is even \"paint\" a black square\n",
    "if the row number is even and the column number is odd \"paint\" a white square\n",
    "if the row number is odd and the column number is even \"paint\" a black square\n",
    "if the row number is odd and the column number is odd \"paint\" a white square\n",
    "\n",
    "\n",
    "\n",
    "\n"
   ]
  },
  {
   "cell_type": "code",
   "execution_count": 4,
   "metadata": {
    "collapsed": false
   },
   "outputs": [],
   "source": [
    "# improved version 3\n",
    "from PIL import Image\n",
    "def do_something():\n",
    "    # in squares\n",
    "    board_width = 8\n",
    "    board_height = 8\n",
    "    # in pixels\n",
    "    square_width = 10\n",
    "    square_height = 10\n",
    "    # colors\n",
    "    black = (0,0,0)\n",
    "    white = (255,255,255)\n",
    "    #build an all white image with enough pixels\n",
    "    return_image = Image.new('RGB',(board_width*square_width, board_height*square_height),white)\n",
    "    # load the picxel data into an arrray\n",
    "    pixels = return_image.load()\n",
    "    for row in range(board_width):\n",
    "        for col in range(board_height):\n",
    "            # row is even\n",
    "            if (row % 2) == 0:\n",
    "                # col is even\n",
    "                if (col % 2) == 0:\n",
    "                    square_color = black\n",
    "                # col is odd\n",
    "                else:\n",
    "                    square_color = white\n",
    "            else:\n",
    "                if (col % 2) == 0:\n",
    "                    square_color = white\n",
    "                else:\n",
    "                    square_color = black\n",
    "            \n",
    "            # paint the square\n",
    "            for square_pixel_row in range(square_width):\n",
    "                for square_pixel_col in range(square_height):\n",
    "                    # col * square_width is the left edge of the current square\n",
    "                    pixel_x = col * square_width + square_pixel_col\n",
    "                    # row * square_height is the top edge of the current square\n",
    "                    pixel_y = row * square_height + square_pixel_row\n",
    "\n",
    "                    \n",
    "                    pixels[pixel_x, pixel_y] = square_color\n",
    "    return return_image\n",
    "do_something().show()"
   ]
  },
  {
   "cell_type": "markdown",
   "metadata": {},
   "source": [
    "```\n",
    "# function 4\n",
    "def test_something(with_object_of_type_image):\n",
    "    c = (0,0,0)\n",
    "    p = with_object_of_type_image.load()\n",
    "    for i in range(with_object_of_type_image.width):\n",
    "        for j in range(with_object_of_type_image.height):\n",
    "            if p != c:\n",
    "                return False\n",
    "    return True\n",
    "```"
   ]
  },
  {
   "cell_type": "code",
   "execution_count": null,
   "metadata": {
    "collapsed": true
   },
   "outputs": [],
   "source": [
    "# algorithm 4\n",
    "#\n",
    "scan through the pixels of an image by row then columen return false when a non-black pixel is encountered\n",
    "return true if all pixels are black"
   ]
  },
  {
   "cell_type": "code",
   "execution_count": null,
   "metadata": {
    "collapsed": true
   },
   "outputs": [],
   "source": [
    "# improved version 4\n",
    "def image_is_black(with_object_of_type_image):\n",
    "    black = (0,0,0)\n",
    "    pixels = with_object_of_type_image.load()\n",
    "    for row in range(with_object_of_type_image.width):\n",
    "        for col in range(with_object_of_type_image.height):\n",
    "            if p[row,col] != black:\n",
    "                return False\n",
    "    return True"
   ]
  },
  {
   "cell_type": "markdown",
   "metadata": {},
   "source": [
    "```\n",
    "# function 5\n",
    "def do_something(with_object_of_type_video):\n",
    "    black_frames []\n",
    "    for n,f in with_object_of_type_video.getFramesByNumber():\n",
    "        if test_something(f):\n",
    "            black_frames.append(n)\n",
    "    return  black_frames\n",
    "```"
   ]
  },
  {
   "cell_type": "code",
   "execution_count": null,
   "metadata": {
    "collapsed": true
   },
   "outputs": [],
   "source": [
    "# algorithm 5\n",
    "#\n",
    "scan through all the frames in a video, noting the frame number of each black framea\n"
   ]
  },
  {
   "cell_type": "code",
   "execution_count": null,
   "metadata": {
    "collapsed": true
   },
   "outputs": [],
   "source": [
    "# improved version 5\n",
    "def do_something(with_object_of_type_video):\n",
    "    black_frames []\n",
    "    for frame_number,frame_image in with_object_of_type_video.getFramesByNumber():\n",
    "        if image_is_black(frame_image):\n",
    "            black_frames.append(frame_number)\n",
    "    return  black_frames"
   ]
  }
 ],
 "metadata": {
  "kernelspec": {
   "display_name": "Python 2",
   "language": "python",
   "name": "python2"
  },
  "language_info": {
   "codemirror_mode": {
    "name": "ipython",
    "version": 2
   },
   "file_extension": ".py",
   "mimetype": "text/x-python",
   "name": "python",
   "nbconvert_exporter": "python",
   "pygments_lexer": "ipython2",
   "version": "2.7.10"
  }
 },
 "nbformat": 4,
 "nbformat_minor": 0
}
