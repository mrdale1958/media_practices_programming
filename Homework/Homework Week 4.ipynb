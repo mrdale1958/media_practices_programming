{
 "cells": [
  {
   "cell_type": "markdown",
   "metadata": {},
   "source": [
    "**Homework Week 4**\n",
    "**Media Practices: Programming**\n",
    "This assignment is mostly about practicing manipulating images and scraping data out of webpages in python. \n"
   ]
  },
  {
   "cell_type": "markdown",
   "metadata": {
    "collapsed": true
   },
   "source": [
    "- Read in data/cc_cat.png\n",
    "- Divide the image into 9 rectangles (3x3)\n",
    "- for the three rectangles row 0 apply a different filter from ImageFilter module\n",
    "- for the three rectangles row 1 apply a different image operation from ImageOps module\n",
    "- for rectangle 0 on row 3, rotate the rectangle 180 degrees\n",
    "- for rectangle 1 on row 3, flip the rectangle vertically\n",
    "- for rectangle 2 on row 3, flip the rectangle horizontally\n"
   ]
  },
  {
   "cell_type": "code",
   "execution_count": null,
   "metadata": {
    "collapsed": true
   },
   "outputs": [],
   "source": []
  },
  {
   "cell_type": "markdown",
   "metadata": {
    "collapsed": true
   },
   "source": [
    "**Dictionaries**\n",
    "Given the data below:\n",
    "- Make a dictionary of all prices over 200\n",
    "- Print the keys from that dictionary\n",
    "- Make a dictionary of tech stocks\n",
    "- Print the average price of tech shaares"
   ]
  },
  {
   "cell_type": "code",
   "execution_count": null,
   "metadata": {
    "collapsed": true
   },
   "outputs": [],
   "source": [
    "prices = {\n",
    "   'ACME': 45.23,\n",
    "   'AAPL': 612.78,\n",
    "   'IBM': 205.55,\n",
    "   'HPQ': 37.20,\n",
    "   'FB': 10.75\n",
    "}\n",
    "tech_names = { 'AAPL', 'IBM', 'HPQ', 'MSFT' }\n"
   ]
  },
  {
   "cell_type": "markdown",
   "metadata": {},
   "source": [
    "**Web scraping.**\n",
    "- Add comments about what's going on here. \n",
    "- Then create a dictionary called sales that hasa buyers as keys and prices as values"
   ]
  },
  {
   "cell_type": "code",
   "execution_count": null,
   "metadata": {
    "collapsed": false
   },
   "outputs": [],
   "source": [
    "from lxml import html\n",
    "import requests\n",
    "page = requests.get('http://econpy.pythonanywhere.com/ex/001.html')\n",
    "tree = html.fromstring(page.text)\n",
    "#This will create a list of buyers:\n",
    "buyers = tree.xpath('//div[@title=\"buyer-name\"]/text()')\n",
    "#This will create a list of prices\n",
    "prices = tree.xpath('//span[@class=\"item-price\"]/text()')\n",
    "print 'Buyers: ', buyers\n",
    "print 'Prices: ', prices"
   ]
  },
  {
   "cell_type": "markdown",
   "metadata": {},
   "source": [
    "This is mostly to see if BeautifulSoup is installed properly.  use www.newschool.edu as the input url\n",
    "\n",
    "If your system doesn't recognize beautifulSoup then you will need to type\n",
    "\n",
    "> conda install beautifulsoup4 \n",
    "\n",
    "in a terminal"
   ]
  },
  {
   "cell_type": "code",
   "execution_count": null,
   "metadata": {
    "collapsed": false
   },
   "outputs": [],
   "source": [
    "from bs4 import BeautifulSoup\n",
    "\n",
    "import requests\n",
    "\n",
    "url = raw_input(\"Enter a website to extract the URL's from: \")\n",
    "\n",
    "r  = requests.get(\"http://\" +url)\n",
    "\n",
    "data = r.text\n",
    "\n",
    "soup = BeautifulSoup(data)\n",
    "\n",
    "for link in soup.find_all('a'):\n",
    "    print(link.get('href'))"
   ]
  },
  {
   "cell_type": "code",
   "execution_count": null,
   "metadata": {
    "collapsed": true
   },
   "outputs": [],
   "source": []
  }
 ],
 "metadata": {
  "kernelspec": {
   "display_name": "Python 2",
   "language": "python",
   "name": "python2"
  },
  "language_info": {
   "codemirror_mode": {
    "name": "ipython",
    "version": 2
   },
   "file_extension": ".py",
   "mimetype": "text/x-python",
   "name": "python",
   "nbconvert_exporter": "python",
   "pygments_lexer": "ipython2",
   "version": "2.7.10"
  }
 },
 "nbformat": 4,
 "nbformat_minor": 0
}
