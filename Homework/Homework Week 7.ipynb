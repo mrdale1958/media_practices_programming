{
 "cells": [
  {
   "cell_type": "markdown",
   "metadata": {},
   "source": [
    "# Homework Week 5\n",
    "\n",
    "## Media Practices: Programming\n",
    "\n",
    "This assignment is just food for thought on areas to do final projects in and a video about user interface algorithms. \n"
   ]
  },
  {
   "cell_type": "markdown",
   "metadata": {
    "collapsed": true
   },
   "source": [
    "Watch [Mark DiMarco: User Interface Algorithms](https://www.youtube.com/watch?v=90NsjKvz9Ns)"
   ]
  },
  {
   "cell_type": "markdown",
   "metadata": {},
   "source": [
    "# Food for thought for final projects\n",
    "\n",
    "## Philosophy\n",
    "\n",
    "[Culture clash](http://techcrunch.com/2015/09/30/culture-clash-coding-software-and-writing-for-humans/)\n",
    "\n",
    "[The Programs That Become the Programmers](http://flip.it/tax9v)\n",
    "\n",
    "[Bots](http://techcrunch.com/2015/09/29/forget-apps-now-the-bots-take-over/)\n",
    "\n",
    "## Generative art\n",
    "\n",
    "[Fashion](http://www.generateddesign.com/)\n",
    "\n",
    "[Sound](http://www.generatedsound.com/)\n",
    "\n",
    "[Cities](https://github.com/josauder/procedural_city_generation?utm_source=Python+Weekly+Newsletter&utm_campaign=c55fb48a43-Python_Weekly_Issue_211_October_1_2015&utm_medium=email&utm_term=0_9e26887fc5-c55fb48a43-312723353)\n",
    "\n",
    "[Glitch](http://thecreatorsproject.vice.com/blog/glitch-art-is-dead)\n",
    "\n",
    "## Data\n",
    "\n",
    "[What's the big deal](http://flip.it/yBt4p)\n",
    "\n",
    "[Data and truth](http://flip.it/zeUUv)\n",
    "\n",
    "[finding users at Discover Weekly](http://flip.it/YsGAU)\n",
    "\n",
    "[Reading AI](https://github.com/ayoungprogrammer/readAI?utm_source=Python+Weekly+Newsletter&utm_campaign=e56d84f6e5-Python_Weekly_Issue_210_September_24_2015&utm_medium=email&utm_term=0_9e26887fc5-e56d84f6e5-312723353)\n",
    "\n",
    "[Analysing reddit](http://blaze.pydata.org/blog/2015/09/16/reddit-impala/?utm_source=Python+Weekly+Newsletter&utm_campaign=9aa6b3ae4c-Python_Weekly_Issue_209_September_17_2015&utm_medium=email&utm_term=0_9e26887fc5-9aa6b3ae4c-312723353)\n",
    "\n",
    "[Archive of modernist and avant garde magazines 1890-1939](http://www.openculture.com/2014/09/archive-of-avant-garde-modernist-magazines-1890-1939.html)\n",
    "\n",
    "[political speech](http://flip.it/vN5G4)\n",
    "\n",
    "[mine and minefield](http://techcrunch.com/2015/10/03/data-is-a-mine-and-a-minefield/)\n",
    "\n",
    "\n",
    "## APIs\n",
    "\n",
    "[Front door](http://techcrunch.com/2015/10/14/unlocking-new-businesses/)\n",
    "\n",
    "[Python and APIs](https://www.dataquest.io/blog/api-introduction/?utm_source=Python+Weekly+Newsletter&utm_campaign=1a32bc675e-Python_Weekly_Issue_208_September_10_2015&utm_medium=email&utm_term=0_9e26887fc5-1a32bc675e-312723353)\n",
    "\n",
    "[Whatsapp bots](https://github.com/joaoricardo000/whatsapp-bot-seed?utm_source=Python+Weekly+Newsletter&utm_campaign=1a32bc675e-Python_Weekly_Issue_208_September_10_2015&utm_medium=email&utm_term=0_9e26887fc5-1a32bc675e-312723353)\n",
    "\n",
    "\n",
    "## Ubiquitous computing\n",
    "\n",
    "[Disney's magic wristband](http://flip.it/waLRu)\n",
    "\n",
    "[Object tracking](http://www.pyimagesearch.com/2015/09/21/opencv-track-object-movement/?utm_source=Python+Weekly+Newsletter&utm_campaign=e56d84f6e5-Python_Weekly_Issue_210_September_24_2015&utm_medium=email&utm_term=0_9e26887fc5-e56d84f6e5-312723353)\n",
    "\n",
    "[bridging the human-machine divide](http://flip.it/IGHhh)\n",
    "\n",
    "\n",
    "\n",
    "\n"
   ]
  },
  {
   "cell_type": "code",
   "execution_count": null,
   "metadata": {
    "collapsed": true
   },
   "outputs": [],
   "source": []
  }
 ],
 "metadata": {
  "kernelspec": {
   "display_name": "Python 2",
   "language": "python",
   "name": "python2"
  },
  "language_info": {
   "codemirror_mode": {
    "name": "ipython",
    "version": 2
   },
   "file_extension": ".py",
   "mimetype": "text/x-python",
   "name": "python",
   "nbconvert_exporter": "python",
   "pygments_lexer": "ipython2",
   "version": "2.7.10"
  }
 },
 "nbformat": 4,
 "nbformat_minor": 0
}
