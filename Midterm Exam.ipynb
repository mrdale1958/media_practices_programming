{
 "cells": [
  {
   "cell_type": "markdown",
   "metadata": {},
   "source": [
    "# Media Practices: Programming -- Midterm Exam"
   ]
  },
  {
   "cell_type": "markdown",
   "metadata": {},
   "source": [
    "## Writing Algorithms\n",
    "\n",
    "For the following write in English/pseudocode an algorithm that will accomplish the task. Indicate data (variables) by giving them UPPERCASE names."
   ]
  },
  {
   "cell_type": "markdown",
   "metadata": {},
   "source": [
    "**Make an array containing the color on each face of a cube**\n"
   ]
  },
  {
   "cell_type": "code",
   "execution_count": null,
   "metadata": {
    "collapsed": true
   },
   "outputs": [],
   "source": [
    "# color cube\n"
   ]
  },
  {
   "cell_type": "markdown",
   "metadata": {},
   "source": [
    "**Convert numbers in the range 0,255 into letters between 'a' and 'z' (several numbers will convert to a single letter)**"
   ]
  },
  {
   "cell_type": "code",
   "execution_count": null,
   "metadata": {
    "collapsed": true
   },
   "outputs": [],
   "source": [
    "# numbers to letters\n"
   ]
  },
  {
   "cell_type": "markdown",
   "metadata": {},
   "source": [
    "**Count the number of sentences in a text named STORY, where 'sentence' is defined as a string that starts with a capital letter and ends with a '.'**"
   ]
  },
  {
   "cell_type": "code",
   "execution_count": null,
   "metadata": {
    "collapsed": true
   },
   "outputs": [],
   "source": [
    "# sentences\n"
   ]
  },
  {
   "cell_type": "markdown",
   "metadata": {},
   "source": [
    "**Count the number of sentences in a text named STORY_TWO where 'sentence' is defined as a string that starts with a capital letter and ends with one of '.', '!', or '?'**"
   ]
  },
  {
   "cell_type": "code",
   "execution_count": null,
   "metadata": {
    "collapsed": true
   },
   "outputs": [],
   "source": [
    "# sentences 2\n"
   ]
  },
  {
   "cell_type": "markdown",
   "metadata": {},
   "source": [
    "**Count the number of sentences in a text named INTERVIEW where 'sentence' is defined as a string that starts with a capital letter and ends with one of '.', '!', or '?'and ignore quoted passages and decimal numbers.**"
   ]
  },
  {
   "cell_type": "code",
   "execution_count": null,
   "metadata": {
    "collapsed": true
   },
   "outputs": [],
   "source": [
    "# questions\n"
   ]
  },
  {
   "cell_type": "markdown",
   "metadata": {},
   "source": [
    "**Do homework for this class**"
   ]
  },
  {
   "cell_type": "code",
   "execution_count": null,
   "metadata": {
    "collapsed": true
   },
   "outputs": [],
   "source": [
    "# homework\n"
   ]
  },
  {
   "cell_type": "markdown",
   "metadata": {},
   "source": [
    "## Discovering algorithms\n",
    "\n",
    "**Describe the algorithms implemented in each cell then rewrite the code choosing better names for the variables**\n"
   ]
  },
  {
   "cell_type": "markdown",
   "metadata": {},
   "source": [
    "```\n",
    "# function 1\n",
    "def do_something(with_object_of_type_text):\n",
    "    return_list = []\n",
    "    for c in range(len(with_object_of_type_text)):\n",
    "        if (text[c] == '?'):\n",
    "            maybe = -1\n",
    "            for b in range(c-1,0,-1):\n",
    "                if with_object_of_type_text[b] in string.ascii_uppercase:\n",
    "                    maybe = b\n",
    "                    continue\n",
    "                if (maybe > -1) and (b < maybe) and (with_object_of_type_text[b] in ['.', '!', '?']):\n",
    "                    return_list.append(with_object_of_type_text[maybe:c])\n",
    "                    break\n",
    "                elif b == 0:\n",
    "                    return_list.append(with_object_of_type_text[0:c])\n",
    "                    break\n",
    "    return return_list\n",
    "```                    \n",
    "    "
   ]
  },
  {
   "cell_type": "code",
   "execution_count": null,
   "metadata": {
    "collapsed": true
   },
   "outputs": [],
   "source": [
    "# algorithm 1\n",
    "#\n"
   ]
  },
  {
   "cell_type": "code",
   "execution_count": null,
   "metadata": {
    "collapsed": true
   },
   "outputs": [],
   "source": [
    "# improved version 1\n",
    "def do_something(with_object_of_type_text):\n",
    "    return_list = []\n",
    "    for c in range(len(with_object_of_type_text)):\n",
    "        if (text[c] == '?'):\n",
    "            maybe = -1\n",
    "            for b in range(c-1,0,-1):\n",
    "                if with_object_of_type_text[b] in string.ascii_uppercase:\n",
    "                    maybe = b\n",
    "                    continue\n",
    "                if (maybe > -1) and (b < maybe) and (with_object_of_type_text[b] in ['.', '!', '?']):\n",
    "                    return_list.append(with_object_of_type_text[maybe:c])\n",
    "                    break\n",
    "                elif b == 0:\n",
    "                    return_list.append(with_object_of_type_text[0:c])\n",
    "                    break\n",
    "    return return_list\n"
   ]
  },
  {
   "cell_type": "markdown",
   "metadata": {},
   "source": [
    "```\n",
    "# function 2\n",
    "def do_something(with_object_of_type_image):\n",
    "    w,h = with_object_of_type_image.size\n",
    "    p = with_object_of_type_image.load()\n",
    "    for i in range(h):\n",
    "        for j in range(w):\n",
    "            if p[i,j] == (0,0,0):\n",
    "                p[i,j] = (255,255,255)\n",
    "            elif p[i,j] == (255,255,255):\n",
    "                p[i,j] = (0,0,0)\n",
    "    with_object_of_type_image.show()\n",
    "```            \n",
    "    "
   ]
  },
  {
   "cell_type": "code",
   "execution_count": null,
   "metadata": {
    "collapsed": true
   },
   "outputs": [],
   "source": [
    "# algorithm 2\n",
    "#\n"
   ]
  },
  {
   "cell_type": "code",
   "execution_count": null,
   "metadata": {
    "collapsed": true
   },
   "outputs": [],
   "source": [
    "# improved version 2\n",
    "def do_something(with_object_of_type_image):\n",
    "    w,h = with_object_of_type_image.size\n",
    "    p = with_object_of_type_image.load()\n",
    "    for i in range(h):\n",
    "        for j in range(w):\n",
    "            if p[i,j] == (0,0,0):\n",
    "                p[i,j] = (255,255,255)\n",
    "            elif p[i,j] == (255,255,255):\n",
    "                p[i,j] = (0,0,0)\n",
    "    with_object_of_type_image.show()\n"
   ]
  },
  {
   "cell_type": "markdown",
   "metadata": {},
   "source": [
    "```\n",
    "# function 3\n",
    "from PIL import Image\n",
    "def do_something():\n",
    "    bw = 8\n",
    "    bh = 8\n",
    "    sqw = 10\n",
    "    sqh = 10\n",
    "    return_image = Image.new('RGB',(bw*sqw, bh*sqh),(255,255,255))\n",
    "    p = return_image.load()\n",
    "    c1 = (0,0,0)\n",
    "    c2 = (255,255,255)\n",
    "    for i in range(bw):\n",
    "        for j in range(bh):\n",
    "            if (i % 2) == 0:\n",
    "                if (j % 2) == 0:\n",
    "                    c = c1\n",
    "                else:\n",
    "                    c = c2\n",
    "            else:\n",
    "                if (j % 2) == 0:\n",
    "                    c = c2\n",
    "                else:\n",
    "                    c = c1\n",
    "                \n",
    "            for k in range(sqw):\n",
    "                for l in range(sqh):\n",
    "                    p[i*sqw+k, j*sqh+l] = c\n",
    "    return return_image\n",
    "```"
   ]
  },
  {
   "cell_type": "code",
   "execution_count": null,
   "metadata": {
    "collapsed": true
   },
   "outputs": [],
   "source": [
    "# algorithm 3\n",
    "#\n"
   ]
  },
  {
   "cell_type": "code",
   "execution_count": null,
   "metadata": {
    "collapsed": true
   },
   "outputs": [],
   "source": [
    "# improved version 3\n",
    "from PIL import Image\n",
    "def do_something():\n",
    "    bw = 8\n",
    "    bh = 8\n",
    "    sqw = 10\n",
    "    sqh = 10\n",
    "    return_image = Image.new('RGB',(bw*sqw, bh*sqh),(255,255,255))\n",
    "    p = return_image.load()\n",
    "    c1 = (0,0,0)\n",
    "    c2 = (255,255,255)\n",
    "    for i in range(bw):\n",
    "        for j in range(bh):\n",
    "            if (i % 2) == 0:\n",
    "                if (j % 2) == 0:\n",
    "                    c = c1\n",
    "                else:\n",
    "                    c = c2\n",
    "            else:\n",
    "                if (j % 2) == 0:\n",
    "                    c = c2\n",
    "                else:\n",
    "                    c = c1\n",
    "                \n",
    "            for k in range(sqw):\n",
    "                for l in range(sqh):\n",
    "                    p[i*sqw+k, j*sqh+l] = c\n",
    "    return return_image\n"
   ]
  },
  {
   "cell_type": "markdown",
   "metadata": {},
   "source": [
    "```\n",
    "# function 4\n",
    "def test_something(with_object_of_type_image):\n",
    "    c = (0,0,0)\n",
    "    p = with_object_of_type_image.load()\n",
    "    for i in range(with_object_of_type_image.width):\n",
    "        for j in range(with_object_of_type_image.height):\n",
    "            if p != c:\n",
    "                return False\n",
    "    return True\n",
    "```"
   ]
  },
  {
   "cell_type": "code",
   "execution_count": null,
   "metadata": {
    "collapsed": true
   },
   "outputs": [],
   "source": [
    "# algorithm 4\n",
    "#\n"
   ]
  },
  {
   "cell_type": "code",
   "execution_count": null,
   "metadata": {
    "collapsed": true
   },
   "outputs": [],
   "source": [
    "# improved version 4\n",
    "def test_something(with_object_of_type_image):\n",
    "    c = (0,0,0)\n",
    "    p = with_object_of_type_image.load()\n",
    "    for i in range(with_object_of_type_image.width):\n",
    "        for j in range(with_object_of_type_image.height):\n",
    "            if p != c:\n",
    "                return False\n",
    "    return True"
   ]
  },
  {
   "cell_type": "markdown",
   "metadata": {},
   "source": [
    "```\n",
    "# function 5\n",
    "def do_something(with_object_of_type_video):\n",
    "    black_frames []\n",
    "    for n,f in with_object_of_type_video.getFramesByNumber():\n",
    "        if test_something(f):\n",
    "            black_frames.append(n)\n",
    "    return  black_frames\n",
    "```"
   ]
  },
  {
   "cell_type": "code",
   "execution_count": null,
   "metadata": {
    "collapsed": true
   },
   "outputs": [],
   "source": [
    "# algorithm 5\n",
    "#\n"
   ]
  },
  {
   "cell_type": "code",
   "execution_count": null,
   "metadata": {
    "collapsed": true
   },
   "outputs": [],
   "source": [
    "# improved version 5\n",
    "def do_something(with_object_of_type_video):\n",
    "    black_frames []\n",
    "    for n,f in with_object_of_type_video.getFramesByNumber():\n",
    "        if test_something(f):\n",
    "            black_frames.append(n)\n",
    "    return  black_frames"
   ]
  }
 ],
 "metadata": {
  "kernelspec": {
   "display_name": "Python 2",
   "language": "python",
   "name": "python2"
  },
  "language_info": {
   "codemirror_mode": {
    "name": "ipython",
    "version": 2
   },
   "file_extension": ".py",
   "mimetype": "text/x-python",
   "name": "python",
   "nbconvert_exporter": "python",
   "pygments_lexer": "ipython2",
   "version": "2.7.10"
  }
 },
 "nbformat": 4,
 "nbformat_minor": 0
}
