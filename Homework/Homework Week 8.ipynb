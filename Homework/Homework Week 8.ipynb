{
 "cells": [
  {
   "cell_type": "markdown",
   "metadata": {},
   "source": [
    "# Homework Week 8\n",
    "## Media Practices: Programming\n",
    "\n"
   ]
  },
  {
   "cell_type": "markdown",
   "metadata": {
    "collapsed": true
   },
   "source": [
    "### Task 1\n",
    "\n",
    "Draw out a Finite State Machine for a simple DVD player.\n",
    "\n",
    "Inputs are : \n",
    "* Play/pause button, \n",
    "* fast forward button, \n",
    "* rewind button, \n",
    "* mute audio button, \n",
    "* door open switch, \n",
    "* media present sensor\n",
    "\n",
    "Outputs are: \n",
    "* video screen, \n",
    "* audio speaker"
   ]
  },
  {
   "cell_type": "markdown",
   "metadata": {},
   "source": [
    "### Task 2\n",
    "\n",
    "Turn in some notes/ideas on areas you'd like to try to do your project in.\n"
   ]
  },
  {
   "cell_type": "markdown",
   "metadata": {},
   "source": [
    "### Task 3\n",
    "\n",
    "Turn the following into working python. \n",
    "\n",
    "It should test by reading the file data/movieplots.txt so be sure you copy that from my repository as well.\n",
    "\n",
    "### The Algorithm\n",
    "```\n",
    "set sentence_count = 0\n",
    "while not at end of STORY \n",
    "    scan STORY for 'A'..'Z'\n",
    "    when one is found note it's position as CAP_FOUND\n",
    "    scan from  CAP_FOUND for '.' or '?' or '!' or '\"' or end of STORY\n",
    "    if '\"' found from here for '\"' or end of STORY\n",
    "\n",
    "    if end of story found quit\n",
    "    if '.' found if next char a number ignore and continue scanning else increment sentence_count\n",
    "    if '?' or '!'found increment sentence_count\n",
    "\n",
    "```"
   ]
  },
  {
   "cell_type": "code",
   "execution_count": null,
   "metadata": {
    "collapsed": true
   },
   "outputs": [],
   "source": [
    "testfile = open('data/movieplots.txt')\n",
    "test_text = testfile.read()\n",
    "\n",
    "def count_sentences(in_text):\n",
    "    sentence_count = 0\n",
    "    # your code goes here\n",
    "    # remember it's a good idea to embed the algorithm as comments\n",
    "    \n",
    "    # return the number of sentences\n",
    "    return sentence_count\n",
    "\n",
    "print count_sentences(test_text)"
   ]
  }
 ],
 "metadata": {
  "kernelspec": {
   "display_name": "Python 2",
   "language": "python",
   "name": "python2"
  },
  "language_info": {
   "codemirror_mode": {
    "name": "ipython",
    "version": 2
   },
   "file_extension": ".py",
   "mimetype": "text/x-python",
   "name": "python",
   "nbconvert_exporter": "python",
   "pygments_lexer": "ipython2",
   "version": "2.7.10"
  }
 },
 "nbformat": 4,
 "nbformat_minor": 0
}
