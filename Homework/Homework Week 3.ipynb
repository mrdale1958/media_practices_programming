{
 "cells": [
  {
   "cell_type": "markdown",
   "metadata": {},
   "source": [
    "### Homework Week 3\n",
    "Media Practices: Programming\n",
    "This assignment is mostly about branching and looping.\n"
   ]
  },
  {
   "cell_type": "markdown",
   "metadata": {},
   "source": [
    "If we list all the natural numbers below 10 that are multiples of 3 or 5, we get 3, 5, 6 and 9. The sum of these multiples is 23.\n",
    "\n",
    "Find the sum of all the multiples of 3 or 5 below 1000."
   ]
  },
  {
   "cell_type": "code",
   "execution_count": null,
   "metadata": {
    "collapsed": false
   },
   "outputs": [],
   "source": [
    "def is_multiple_of_3(number):\n",
    "    if (number % 3) == 0:\n",
    "        return True\n",
    "    return False\n",
    "def is_multiple_of_5(number):\n",
    "    if (number % 5) == 0:\n",
    "        return True\n",
    "    return False\n",
    "\n",
    "total = 0\n",
    "for num in range(1,1000,1):\n",
    "    if (is_multiple_of_3(num) or is_multiple_of_5(num)):\n",
    "        total += num # total = total + num\n",
    "print total\n",
    "        "
   ]
  },
  {
   "cell_type": "markdown",
   "metadata": {},
   "source": [
    "Write a program that prints the numbers from 1 to 100. But for multiples of three print “Fizz” instead of the number and for the multiples of five print “Buzz”. For numbers which are multiples of both three and five print “FizzBuzz”."
   ]
  },
  {
   "cell_type": "code",
   "execution_count": null,
   "metadata": {
    "collapsed": false
   },
   "outputs": [],
   "source": [
    "def fizzbuzz(max_num):\n",
    "    \"\"\"Your code goes below here\"\"\"\n",
    "    for number_sample in range(1,max_num+1,1):\n",
    "        print number_sample,\n",
    "        divides_by_3 = is_multiple_of_3(number_sample)\n",
    "        divides_by_5 = is_multiple_of_5(number_sample)\n",
    "        \n",
    "        if ( divides_by_3 & divides_by_5):\n",
    "            print \"FizzBuzz\"\n",
    "        elif (divides_by_3):\n",
    "            print \"Fizz\"\n",
    "        elif (divides_by_5):\n",
    "            print \"Buzz\"\n",
    "        else:\n",
    "            print\n",
    "        \n",
    "            \n",
    "    \n",
    "fizzbuzz(100)    "
   ]
  },
  {
   "cell_type": "markdown",
   "metadata": {},
   "source": [
    "Write a fibonacci() function that takes n as its argument and returns the nth fibonacci #\n",
    "F0 = 0\n",
    "F1 = 1\n",
    "Fn = Fn-1 + Fn-2 (So F2 = F1 + F0 = 1 + 0 = 1, F3 = F2 + F1 = 1 + 1 = 2,...)"
   ]
  },
  {
   "cell_type": "code",
   "execution_count": null,
   "metadata": {
    "collapsed": false
   },
   "outputs": [],
   "source": [
    "def fibonacci(n):\n",
    "    \"\"\"Your code goes below here\"\"\"\n",
    "    first = 0\n",
    "    second = 1\n",
    "    result = 0\n",
    "    for fib in range(n):\n",
    "        lower_term = first\n",
    "        upper_term = second \n",
    "        result = lower_term + upper_term\n",
    "        first = upper_term\n",
    "        second = result\n",
    "    return result\n",
    "\n",
    "print fibonacci(0)\n",
    "print fibonacci(1)\n",
    "print fibonacci(2)\n",
    "print fibonacci(3)\n",
    "print fibonacci(4)\n",
    "print fibonacci(5)\n",
    "print fibonacci(6)\n",
    "print fibonacci(7)\n",
    "print fibonacci(8)\n"
   ]
  },
  {
   "cell_type": "markdown",
   "metadata": {},
   "source": [
    "use open and readlines() to read data/wine.txt into an array\n",
    "print all the four star reviews without any stars\n",
    "print the star ratings of all the reviews with the word \"good\" in them"
   ]
  },
  {
   "cell_type": "code",
   "execution_count": null,
   "metadata": {
    "collapsed": false
   },
   "outputs": [],
   "source": [
    "data_file = open('data/wine.txt')\n",
    "print data_file\n",
    "data_lines = data_file.readlines()\n",
    "#print data_lines[0]\n",
    "#print data_lines[0].split('\\t')[0]\n",
    "\n",
    "def get_review_string(review_data):\n",
    "    return review_data[0]\n",
    "def get_review_stars(review_data):\n",
    "    return review_data[1]\n",
    "\n",
    "def get_review_star_count(review_data):\n",
    "    clean_data = review_data[1][:-1]\n",
    "    star_count = 0\n",
    "    for character in clean_data:\n",
    "        if character == '*':\n",
    "            star_count += 1\n",
    "    return star_count\n",
    "\n",
    "def get_review_star_len(review_data):\n",
    "    clean_data = review_data[1][:-1]\n",
    "    return len(clean_data)\n",
    "\n",
    "for line in data_lines:\n",
    "    line_data = line.split('\\t')\n",
    "#    if get_review_stars(line_data) == '****\\n':\n",
    "#    if get_review_star_count(line_data) == 4:\n",
    "    if get_review_star_len(line_data) == 4:\n",
    "        print get_review_string(line_data)\n",
    "    \n",
    "#for line in data_lines:\n",
    "#    line_data = line.split('\\t')\n",
    "#    if get_review_string(line_data).find('good') >= 0:\n",
    "#        print get_review_stars(line_data)[:-1]\n",
    "\n"
   ]
  },
  {
   "cell_type": "markdown",
   "metadata": {},
   "source": [
    "For the rest you are going to make extensive use of the [PIL Documentation](http://pillow.readthedocs.org/en/latest/index.html)"
   ]
  },
  {
   "cell_type": "markdown",
   "metadata": {
    "collapsed": true
   },
   "source": [
    "Image blur\n",
    "read data/cc_cat.png in as a PIL Image (this is the source)\n",
    "make a new blank image the same size as the original (this will hold the result\n",
    "use load() to get the pixel arrays for both images\n",
    "blur the contents of the source image by averaging the 8 values around each pixel and writing that value into the corresponding pixel in the result image\n",
    "Since the source is a color image, \"averaging\" a pixel value involves getting the average value of each R,G,B value for the pixel\n",
    "For pixels that don't have 8 neighbors, just average the neighbors it does have"
   ]
  },
  {
   "cell_type": "code",
   "execution_count": 54,
   "metadata": {
    "collapsed": false
   },
   "outputs": [
    {
     "name": "stdout",
     "output_type": "stream",
     "text": [
      "<PIL.PngImagePlugin.PngImageFile image mode=RGB size=333x500 at 0x10517E810>\n",
      "333 500\n",
      "333 500\n"
     ]
    }
   ],
   "source": [
    "from PIL import Image\n",
    "\n",
    "def blur(pixel_array):\n",
    "    red_sum = 0\n",
    "    green_sum = 0\n",
    "    blue_sum = 0\n",
    "    pixel_count = 0\n",
    "    for pixel in pixel_array:\n",
    "        red_sum += pixel[0]\n",
    "        green_sum += pixel[1]\n",
    "        blue_sum += pixel[2]\n",
    "        pixel_count += 1\n",
    "    if pixel_count == 0:\n",
    "        return (0,0,0)\n",
    "    else:\n",
    "        return (red_sum/pixel_count, green_sum/pixel_count, blue_sum/pixel_count )\n",
    "    \n",
    "        \n",
    "cat_pic = Image.open(\"data/cc_cat.png\")\n",
    "print cat_pic\n",
    "print cat_pic.width, cat_pic.height\n",
    "w,h = cat_pic.size\n",
    "print w, h\n",
    "blurry_cat = Image.new('RGB', size=(cat_pic.width, cat_pic.height))\n",
    "pixels = cat_pic.load()\n",
    "blurry_pixels = blurry_cat.load()\n",
    "for row in range(cat_pic.height):\n",
    "    for col in range(cat_pic.width):\n",
    "        #this_pixel = pixels[col,row]\n",
    "        #print col, cat_pic.width, cat_pic.width-col\n",
    "        if (col == 0):\n",
    "            if (row == 0):\n",
    "                # upper left corner\n",
    "                neighbors = [ \n",
    "                     pixels[col+1,row],\n",
    "                     pixels[col,row+1], pixels[col+1,row+1] ]\n",
    "            elif (row == cat_pic.height -1):\n",
    "                # lower left coner\n",
    "                neighbors = [ pixels[col,row-1], pixels[col+1,row-1],\n",
    "                     pixels[col+1,row] ]\n",
    "            else:\n",
    "                # left side\n",
    "                neighbors = [ pixels[col,row-1], pixels[col+1,row-1],\n",
    "                     pixels[col+1,row],\n",
    "                     pixels[col,row+1], pixels[col+1,row+1] ]\n",
    "        elif (col == cat_pic.width - 1):\n",
    "            if (row == 0):\n",
    "                # upper right corner\n",
    "                neighbors = [ pixels[col-1,row], \n",
    "                     pixels[col-1,row+1], pixels[col,row+1] ]\n",
    "            elif (row == cat_pic.height -1):\n",
    "                #lower right corner\n",
    "                neighbors = [ pixels[col-1,row-1], pixels[col,row-1], \n",
    "                     pixels[col-1,row], ]\n",
    "            else:\n",
    "                # right side\n",
    "                neighbors = [ pixels[col-1,row-1], pixels[col,row-1],\n",
    "                     pixels[col-1,row], \n",
    "                     pixels[col-1,row+1], pixels[col,row+1]]\n",
    "        \n",
    "        else:\n",
    "            if (row == 0):\n",
    "                # top row\n",
    "                neighbors = [ pixels[col-1,row], pixels[col+1,row],\n",
    "                     pixels[col-1,row+1], pixels[col,row+1], pixels[col+1,row+1] ]\n",
    "            elif (row == cat_pic.height -1):\n",
    "                # bottom row\n",
    "                neighbors = [ pixels[col-1,row-1], pixels[col,row-1], pixels[col+1,row-1],\n",
    "                     pixels[col-1,row], pixels[col+1,row] ]\n",
    "            else:\n",
    "                neighbors = [ pixels[col-1,row-1], pixels[col,row-1], pixels[col+1,row-1],\n",
    "                     pixels[col-1,row], pixels[col+1,row],\n",
    "                     pixels[col-1,row+1], pixels[col,row+1], pixels[col+1,row+1] ]\n",
    "                \n",
    "        blurry_pixels[col,row] = blur(neighbors)\n",
    "        #if (this_pixel[0] < 200 or this_pixel[1] < 200 or this_pixel[2] < 200):\n",
    "        #    pass\n",
    "        #else:\n",
    "        #    pixels[col,row] = (0,0,0)\n",
    "#cat_pic.show()\n",
    "blurry_cat.show()\n"
   ]
  },
  {
   "cell_type": "markdown",
   "metadata": {},
   "source": [
    "Kaliedescope\n",
    "Add comments for each line of make_triangle including a comment block describing what the function does\n"
   ]
  },
  {
   "cell_type": "code",
   "execution_count": null,
   "metadata": {
    "collapsed": false
   },
   "outputs": [],
   "source": [
    "import numpy as np\n",
    "from PIL import Image, ImageDraw, ImageOps\n",
    "filename = \"data/cc_cat.png\"\n",
    "import IPython.core.display\n",
    "testimg = Image.open(filename)\n",
    "def make_triangle(start_img, save=False):\n",
    "    \"\"\"Function description goes here\"\"\"\n",
    "    \n",
    "    w, h = start_img.size\n",
    "    \n",
    "    inset = (max(w,h) - min(w,h)) / 2\n",
    "    w, h = start_img.size\n",
    "    sqrimg = start_img.crop((inset, inset, w-inset, w-inset))\n",
    "    \n",
    "    w, h = sqrimg.size\n",
    "    \n",
    "    mask = Image.new('1', (w,h))\n",
    "    draw = ImageDraw.Draw(mask) \n",
    "    \n",
    "    t_height = w/2 * np.tan(60)\n",
    "\n",
    "    triangle_negative = [(0,h), (w/2, t_height), (w,h), (0,h)]\n",
    "    draw.polygon(triangle_negative, fill=255)\n",
    "    output = ImageOps.fit(sqrimg, mask.size, centering=(0.5, 0.5))\n",
    "    output.putalpha(mask)\n",
    "\n",
    "    output = output.crop((0,int(t_height)-15, w, h))\n",
    "    if save:\n",
    "        path = 'data/triangle_{}'.format(filename.split('/')[1])\n",
    "        output.save(path)\n",
    "        return output, path\n",
    "    return output\n",
    "img, path = make_triangle(testimg, True)\n",
    "IPython.core.display.Image(path)"
   ]
  },
  {
   "cell_type": "markdown",
   "metadata": {},
   "source": [
    "Modify make_triangle to accept an optional argument that sets the vertical location of the triangle"
   ]
  },
  {
   "cell_type": "code",
   "execution_count": null,
   "metadata": {
    "collapsed": true
   },
   "outputs": [],
   "source": []
  },
  {
   "cell_type": "markdown",
   "metadata": {},
   "source": [
    "Modify make_triangle to accept an optional argument that sets the vertical location of the triangle"
   ]
  },
  {
   "cell_type": "code",
   "execution_count": null,
   "metadata": {
    "collapsed": true
   },
   "outputs": [],
   "source": []
  },
  {
   "cell_type": "markdown",
   "metadata": {},
   "source": [
    "Stretch: Modify make_triangle to accept an optional argument that sets the rotation of the triangle. This couold be an angle or a direction (up, down, left, right)"
   ]
  },
  {
   "cell_type": "code",
   "execution_count": null,
   "metadata": {
    "collapsed": true
   },
   "outputs": [],
   "source": []
  }
 ],
 "metadata": {
  "kernelspec": {
   "display_name": "Python 2",
   "language": "python",
   "name": "python2"
  },
  "language_info": {
   "codemirror_mode": {
    "name": "ipython",
    "version": 2
   },
   "file_extension": ".py",
   "mimetype": "text/x-python",
   "name": "python",
   "nbconvert_exporter": "python",
   "pygments_lexer": "ipython2",
   "version": "2.7.10"
  }
 },
 "nbformat": 4,
 "nbformat_minor": 0
}
